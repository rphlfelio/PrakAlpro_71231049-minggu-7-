{
 "cells": [
  {
   "cell_type": "code",
   "execution_count": 6,
   "id": "9bd85cd5",
   "metadata": {},
   "outputs": [
    {
     "name": "stdout",
     "output_type": "stream",
     "text": [
      "masukkan kata pertama : mata\n",
      "masukkan kata kedua : atam\n",
      "mata adalah anagram dari atam\n"
     ]
    }
   ],
   "source": [
    "#latihan 7.1\n",
    "wd1 = input(\"masukkan kata pertama : \")\n",
    "wd2 = input(\"masukkan kata kedua : \")    \n",
    "\n",
    "def anagram(wd1, wd2):\n",
    "    wd1 = wd1.lower()\n",
    "    wd2 = wd2.lower()\n",
    "    \n",
    "    ls1 = list(wd1)\n",
    "    ls2 = list(wd2)\n",
    "    ls1.sort()\n",
    "    ls2.sort()\n",
    "\n",
    "    if ls1 == ls2:\n",
    "        print(f\"{wd1} adalah anagram dari {wd2}\")\n",
    "    else:\n",
    "        print(f\"{wd1} bukan anagram dari {wd2}\")\n",
    "    \n",
    "\n",
    "anagram(wd1,wd2)"
   ]
  },
  {
   "cell_type": "code",
   "execution_count": 15,
   "id": "03f0a3be",
   "metadata": {},
   "outputs": [
    {
     "name": "stdout",
     "output_type": "stream",
     "text": [
      "Masukkan kalimat : Saya mau makan. Makan itu wajib. Mau siang atau malam saya wajib makan\n",
      "masukkan kata yang dihitung : makan\n",
      "\n",
      "Kata \"Makan\" ada 3 buah\n"
     ]
    }
   ],
   "source": [
    "#latihan 7.2\n",
    "kal = str(input(\"Masukkan kalimat : \"))\n",
    "cari_kata = str(input(\"masukkan kata yang dihitung : \"))\n",
    "kal_low = kal.lower()\n",
    "cari_kata = cari_kata.lower()\n",
    "jmlh = kal_low.count(cari_kata)\n",
    "\n",
    "print(f\"\\nKata \\\"{cari_kata.title()}\\\" ada {jmlh} buah\")"
   ]
  },
  {
   "cell_type": "code",
   "execution_count": 6,
   "id": "a5ed961c",
   "metadata": {},
   "outputs": [
    {
     "name": "stdout",
     "output_type": "stream",
     "text": [
      "masukkan kalimat : saya tidak suka memancing  ikan\n",
      "saya tidak suka memancing ikan\n"
     ]
    }
   ],
   "source": [
    "#latihan 7.3\n",
    "kal = input(\"masukkan kalimat : \")\n",
    "\n",
    "def hapus_spasi(kal):\n",
    "    kal = kal.split()\n",
    "    kal = ' '.join(kal)\n",
    "    return kal\n",
    "\n",
    "print(f'{hapus_spasi(kal)}')"
   ]
  },
  {
   "cell_type": "code",
   "execution_count": 7,
   "id": "59e129e6",
   "metadata": {},
   "outputs": [
    {
     "name": "stdout",
     "output_type": "stream",
     "text": [
      "Masukkan kalimat : red snakes and a black frog in the pool\n",
      "terpendek : a\n",
      "terpanjang : snakes\n"
     ]
    }
   ],
   "source": [
    "#latihan 7.4\n",
    "kal = input(\"Masukkan kalimat : \")\n",
    "\n",
    "def terpendek(kal):\n",
    "    ls1 = kal.split()\n",
    "    terpendek = ls1[0]\n",
    "    for kata in ls1:\n",
    "        if len(kata) < len(terpendek):\n",
    "            terpendek = kata\n",
    "    return terpendek\n",
    "\n",
    "def terpanjang(kal):\n",
    "    ls1 = kal.split()\n",
    "    terpanjang = ls1[0]\n",
    "    for kata in ls1:\n",
    "        if len(kata) > len(terpanjang):\n",
    "            terpanjang = kata\n",
    "    return terpanjang\n",
    "\n",
    "print(f\"terpendek : {terpendek(kal)}\")\n",
    "print(f\"terpanjang : {terpanjang(kal)}\")"
   ]
  },
  {
   "cell_type": "code",
   "execution_count": null,
   "id": "56f30d6f",
   "metadata": {},
   "outputs": [],
   "source": []
  }
 ],
 "metadata": {
  "kernelspec": {
   "display_name": "Python 3 (ipykernel)",
   "language": "python",
   "name": "python3"
  },
  "language_info": {
   "codemirror_mode": {
    "name": "ipython",
    "version": 3
   },
   "file_extension": ".py",
   "mimetype": "text/x-python",
   "name": "python",
   "nbconvert_exporter": "python",
   "pygments_lexer": "ipython3",
   "version": "3.11.5"
  }
 },
 "nbformat": 4,
 "nbformat_minor": 5
}
